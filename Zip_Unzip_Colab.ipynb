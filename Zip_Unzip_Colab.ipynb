{
  "nbformat": 4,
  "nbformat_minor": 0,
  "metadata": {
    "colab": {
      "provenance": []
    },
    "kernelspec": {
      "name": "python3",
      "display_name": "Python 3"
    },
    "language_info": {
      "name": "python"
    }
  },
  "cells": [
    {
      "cell_type": "code",
      "execution_count": null,
      "metadata": {
        "id": "SX4VhWmIV-46"
      },
      "outputs": [],
      "source": [
        "from google.colab import drive\n",
        "drive.mount('/content/drive')\n"
      ]
    },
    {
      "cell_type": "code",
      "source": [
        "!zip -r /content/drive/MyDrive/Sample.zip /content/drive/MyDrive/Delhi-Manali-Part-4"
      ],
      "metadata": {
        "id": "SYQwzTx1WAAu"
      },
      "execution_count": null,
      "outputs": []
    },
    {
      "cell_type": "code",
      "source": [
        "!unzip -uq \"/content/drive/My Drive/path/to/zip_file.zip\" -d \"/content/drive/My Drive/path/to/output_folder\""
      ],
      "metadata": {
        "id": "YfZVU4gXeFb3"
      },
      "execution_count": null,
      "outputs": []
    }
  ]
}